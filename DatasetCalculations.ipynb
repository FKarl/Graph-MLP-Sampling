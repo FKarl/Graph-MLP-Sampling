{
 "cells": [
  {
   "cell_type": "markdown",
   "source": [
    "# Imports"
   ],
   "metadata": {
    "collapsed": false
   }
  },
  {
   "cell_type": "code",
   "execution_count": null,
   "outputs": [],
   "source": [
    "from ogb.nodeproppred import PygNodePropPredDataset\n",
    "from torch_geometric.utils import homophily\n",
    "from torch_geometric.datasets import Planetoid, Reddit, FacebookPagePage\n",
    "import networkx as nx\n",
    "from torch_geometric.utils import to_networkx"
   ],
   "metadata": {
    "collapsed": false
   }
  },
  {
   "cell_type": "markdown",
   "source": [],
   "metadata": {
    "collapsed": false
   }
  },
  {
   "cell_type": "markdown",
   "source": [
    "## Calculate Cluster coefficient"
   ],
   "metadata": {
    "collapsed": false
   }
  },
  {
   "cell_type": "code",
   "execution_count": null,
   "outputs": [],
   "source": [
    "def clustering_coef(data):\n",
    "    # Convert data to a NetworkX graph\n",
    "    G = to_networkx(data)\n",
    "\n",
    "    # Compute the average cluster coefficient https://networkx.org/documentation/stable/reference/algorithms/generated/networkx.algorithms.cluster.average_clustering.html\n",
    "    average_cc = nx.average_clustering(G)\n",
    "    return average_cc"
   ],
   "metadata": {
    "collapsed": false
   }
  },
  {
   "cell_type": "markdown",
   "source": [
    "## Calculate hompholiy measures"
   ],
   "metadata": {
    "collapsed": false
   }
  },
  {
   "cell_type": "code",
   "execution_count": null,
   "outputs": [],
   "source": [
    "def calc_homophily(data):\n",
    "    print('Edge Homophily:', homophily(data.edge_index, data.y, method='edge'))\n",
    "    print('Node Homophily:', homophily(data.edge_index, data.y, method='node'))\n",
    "    print('Edge Insensitive Homophily:', homophily(data.edge_index, data.y, method='edge_insensitive'))"
   ],
   "metadata": {
    "collapsed": false
   }
  },
  {
   "cell_type": "markdown",
   "id": "0fbeb9f6-d2df-4e70-9b06-ce426f64056f",
   "metadata": {
    "tags": []
   },
   "source": [
    "# Dataset calculations:\n",
    "## ogbn-arxiv:"
   ]
  },
  {
   "cell_type": "code",
   "execution_count": null,
   "id": "ffd3d2fe-6a0c-4e3a-ba54-316319d07f8c",
   "metadata": {},
   "outputs": [],
   "source": [
    "# Download and process data at './dataset/ogbn_arxiv/'\n",
    "dataset = PygNodePropPredDataset(name=\"ogbn-arxiv\")\n",
    "\n",
    "data = dataset[0]\n",
    "\n",
    "print(data)\n",
    "print('Undirected:', data.is_undirected())\n",
    "calc_homophily(data)\n",
    "print('Average Cluster Coefficient:', clustering_coef(data))"
   ]
  },
  {
   "cell_type": "markdown",
   "id": "680edf7b-d55b-4278-be1c-0c6d8f5f59c2",
   "metadata": {},
   "source": [
    "## ogbn-products:"
   ]
  },
  {
   "cell_type": "code",
   "execution_count": null,
   "id": "a6f7540a-8a94-40b5-8b50-45780fccf0b0",
   "metadata": {},
   "outputs": [],
   "source": [
    "# Download and process data at './dataset/ogbn_producs/'\n",
    "dataset = PygNodePropPredDataset(name=\"ogbn-products\")\n",
    "\n",
    "data = dataset[0]\n",
    "\n",
    "print(data)\n",
    "print('Undirected:', data.is_undirected())\n",
    "calc_homophily(data)\n",
    "print('Average Cluster Coefficient:', clustering_coef(data))"
   ]
  },
  {
   "cell_type": "markdown",
   "id": "57648dbf-ccbe-4bb0-a0a2-f36852e891eb",
   "metadata": {},
   "source": [
    "## Citeseer:"
   ]
  },
  {
   "cell_type": "code",
   "execution_count": null,
   "id": "db3e0bd3-a521-4660-b3b2-1d02fe701359",
   "metadata": {},
   "outputs": [],
   "source": [
    "# Download and process data at './dataset/Planetiod/Citeseer/'\n",
    "dataset = Planetoid(root='dataset/Planetoid', name='Citeseer')\n",
    "\n",
    "data = dataset[0]\n",
    "\n",
    "print(data)\n",
    "print('Undirected:', data.is_undirected())\n",
    "calc_homophily(data)\n",
    "print('Average Cluster Coefficient:', clustering_coef(data))"
   ]
  },
  {
   "cell_type": "markdown",
   "id": "89dcc397-1548-4a22-b1f8-0e7ca249fd37",
   "metadata": {},
   "source": [
    "## Pubmed:"
   ]
  },
  {
   "cell_type": "code",
   "execution_count": null,
   "id": "01d17199-6462-40e9-9a1d-05bbc375da49",
   "metadata": {},
   "outputs": [],
   "source": [
    "# Download and process data at './dataset/Planetiod/Pubmed/'\n",
    "dataset = Planetoid(root='dataset/Planetoid', name='PubMed')\n",
    "\n",
    "data = dataset[0]\n",
    "\n",
    "print(data)\n",
    "print('Undirected:', data.is_undirected())\n",
    "calc_homophily(data)\n",
    "print('Average Cluster Coefficient:', clustering_coef(data))"
   ]
  },
  {
   "cell_type": "markdown",
   "id": "4139a6b9-5b6a-4a11-9b8a-cd1a1683de07",
   "metadata": {},
   "source": [
    "## Reddit:"
   ]
  },
  {
   "cell_type": "code",
   "execution_count": null,
   "id": "a55ebb4e-b068-4081-b8f5-72ae23f1c647",
   "metadata": {},
   "outputs": [],
   "source": [
    "# Download and process data at './dataset/Reddit/'\n",
    "dataset = Reddit(root='dataset/Reddit')\n",
    "\n",
    "data = dataset[0]\n",
    "\n",
    "print(data)\n",
    "print('Undirected:', data.is_undirected())\n",
    "calc_homophily(data)\n",
    "print('Average Cluster Coefficient:', clustering_coef(data))"
   ]
  },
  {
   "cell_type": "markdown",
   "id": "60ca9164-a305-4256-893b-5ece500ea82b",
   "metadata": {},
   "source": [
    "## Facebook:"
   ]
  },
  {
   "cell_type": "code",
   "execution_count": null,
   "id": "7e6e7541-d104-45a8-8324-fd6a4125b18d",
   "metadata": {},
   "outputs": [],
   "source": [
    "# Download and process data at './dataset/FacebookPagePage/'\n",
    "dataset = FacebookPagePage(root='dataset/FacebookPagePage')\n",
    "\n",
    "data = dataset[0]\n",
    "\n",
    "print(data)\n",
    "print('Undirected:', data.is_undirected())\n",
    "calc_homophily(data)\n",
    "print('Average Cluster Coefficient:', clustering_coef(data))"
   ]
  },
  {
   "cell_type": "markdown",
   "source": [
    "# Cora"
   ],
   "metadata": {
    "collapsed": false
   }
  },
  {
   "cell_type": "code",
   "execution_count": null,
   "outputs": [],
   "source": [
    "dataset = Planetoid(root='dataset/Planetoid', name='cora')\n",
    "\n",
    "data = dataset[0]\n",
    "\n",
    "print(data)\n",
    "print('Undirected:', data.is_undirected())\n",
    "calc_homophily(data)\n",
    "print('Average Cluster Coefficient:', clustering_coef(data))"
   ],
   "metadata": {
    "collapsed": false
   }
  }
 ],
 "metadata": {
  "kernelspec": {
   "display_name": "Python 3 (ipykernel)",
   "language": "python",
   "name": "python3"
  },
  "language_info": {
   "codemirror_mode": {
    "name": "ipython",
    "version": 3
   },
   "file_extension": ".py",
   "mimetype": "text/x-python",
   "name": "python",
   "nbconvert_exporter": "python",
   "pygments_lexer": "ipython3",
   "version": "3.9.13"
  }
 },
 "nbformat": 4,
 "nbformat_minor": 5
}
