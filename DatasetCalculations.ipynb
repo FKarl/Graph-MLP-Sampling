{
 "cells": [
  {
   "cell_type": "markdown",
   "source": [
    "# Imports"
   ],
   "metadata": {
    "collapsed": false
   }
  },
  {
   "cell_type": "code",
   "execution_count": null,
   "outputs": [],
   "source": [
    "from ogb.nodeproppred import PygNodePropPredDataset\n",
    "from torch_geometric.utils import homophily\n",
    "from torch_geometric.datasets import Planetoid, Reddit2, FacebookPagePage\n",
    "import networkx as nx\n",
    "from torch_geometric.utils import to_networkx"
   ],
   "metadata": {
    "collapsed": false
   }
  },
  {
   "cell_type": "markdown",
   "source": [
    "## Calculate Cluster coefficient"
   ],
   "metadata": {
    "collapsed": false
   }
  },
  {
   "cell_type": "code",
   "execution_count": null,
   "outputs": [],
   "source": [
    "def clustering_coef(data):\n",
    "    # Convert data to a NetworkX graph\n",
    "    G = to_networkx(data)\n",
    "\n",
    "    # Compute the average cluster coefficient https://networkx.org/documentation/stable/reference/algorithms/generated/networkx.algorithms.cluster.average_clustering.html\n",
    "    average_cc = nx.average_clustering(G)\n",
    "    return average_cc"
   ],
   "metadata": {
    "collapsed": false
   }
  },
  {
   "cell_type": "markdown",
   "source": [
    "## Calculate hompholiy measures"
   ],
   "metadata": {
    "collapsed": false
   }
  },
  {
   "cell_type": "code",
   "execution_count": null,
   "outputs": [],
   "source": [
    "def calc_homophily(data):\n",
    "    print('Edge Homophily:', homophily(data.edge_index, data.y, method='edge'))\n",
    "    print('Node Homophily:', homophily(data.edge_index, data.y, method='node'))\n",
    "    print('Edge Insensitive Homophily:', homophily(data.edge_index, data.y, method='edge_insensitive'))"
   ],
   "metadata": {
    "collapsed": false
   }
  },
  {
   "cell_type": "markdown",
   "source": [
    "## Calculate sparsity"
   ],
   "metadata": {
    "collapsed": false
   }
  },
  {
   "cell_type": "code",
   "execution_count": null,
   "outputs": [],
   "source": [
    "def calc_sparsity(cur_data):\n",
    "    # Convert data to a NetworkX graph\n",
    "    G = to_networkx(cur_data, to_undirected=True)\n",
    "    # Compute the density https://networkx.org/documentation/stable/reference/generated/networkx.classes.function.density.html\n",
    "    density = nx.density(G)\n",
    "    sparsity = 1 - density\n",
    "    return sparsity"
   ],
   "metadata": {
    "collapsed": false
   }
  },
  {
   "cell_type": "markdown",
   "source": [
    "# General method for Dataset Calculations"
   ],
   "metadata": {
    "collapsed": false
   }
  },
  {
   "cell_type": "code",
   "execution_count": null,
   "outputs": [],
   "source": [
    "def calculate_stats(data):\n",
    "    print(data)\n",
    "    print('Undirected:', data.is_undirected())\n",
    "    calc_homophily(data)\n",
    "    print('Average Cluster Coefficient:', clustering_coef(data))"
   ],
   "metadata": {
    "collapsed": false
   }
  },
  {
   "cell_type": "markdown",
   "id": "0fbeb9f6-d2df-4e70-9b06-ce426f64056f",
   "metadata": {
    "tags": []
   },
   "source": [
    "# Dataset calculations:\n",
    "## ogbn-arxiv:"
   ]
  },
  {
   "cell_type": "code",
   "execution_count": null,
   "id": "ffd3d2fe-6a0c-4e3a-ba54-316319d07f8c",
   "metadata": {},
   "outputs": [],
   "source": [
    "print(\"ogbn-arxiv\")\n",
    "calculate_stats(PygNodePropPredDataset(name=\"ogbn-arxiv\")[0])"
   ]
  },
  {
   "cell_type": "markdown",
   "id": "89dcc397-1548-4a22-b1f8-0e7ca249fd37",
   "metadata": {},
   "source": [
    "## Cora:"
   ]
  },
  {
   "cell_type": "code",
   "execution_count": null,
   "id": "01d17199-6462-40e9-9a1d-05bbc375da49",
   "metadata": {},
   "outputs": [],
   "source": [
    "print(\"Cora\")\n",
    "calculate_stats(Planetoid(root='dataset/Planetoid', name='cora')[0])"
   ]
  },
  {
   "cell_type": "markdown",
   "id": "4139a6b9-5b6a-4a11-9b8a-cd1a1683de07",
   "metadata": {},
   "source": [
    "## CiteSeer:"
   ]
  },
  {
   "cell_type": "code",
   "execution_count": null,
   "id": "a55ebb4e-b068-4081-b8f5-72ae23f1c647",
   "metadata": {
    "pycharm": {
     "is_executing": true
    }
   },
   "outputs": [],
   "source": [
    "print(\"CiteSeer\")\n",
    "calculate_stats(Planetoid(root='dataset/Planetoid', name='CiteSeer')[0])"
   ]
  },
  {
   "cell_type": "markdown",
   "id": "60ca9164-a305-4256-893b-5ece500ea82b",
   "metadata": {},
   "source": [
    "## Pubmed:"
   ]
  },
  {
   "cell_type": "code",
   "execution_count": null,
   "id": "7e6e7541-d104-45a8-8324-fd6a4125b18d",
   "metadata": {},
   "outputs": [],
   "source": [
    "print(\"Pubmed\")\n",
    "calculate_stats(Planetoid(root='dataset/Planetoid', name='Pubmed')[0])"
   ]
  },
  {
   "cell_type": "markdown",
   "source": [
    "## Reddit2:"
   ],
   "metadata": {
    "collapsed": false
   }
  },
  {
   "cell_type": "code",
   "execution_count": null,
   "outputs": [],
   "source": [
    "print(\"Reddit2\")\n",
    "calculate_stats(Reddit2(root='dataset/Reddit2')[0])"
   ],
   "metadata": {
    "collapsed": false,
    "pycharm": {
     "is_executing": true
    }
   }
  },
  {
   "cell_type": "markdown",
   "source": [
    "## FacebookPagePage"
   ],
   "metadata": {
    "collapsed": false
   }
  },
  {
   "cell_type": "code",
   "execution_count": null,
   "outputs": [],
   "source": [
    "print(\"Facebook\")\n",
    "calculate_stats(FacebookPagePage(root='dataset/FacebookPagePage')[0])"
   ],
   "metadata": {
    "collapsed": false
   }
  }
 ],
 "metadata": {
  "kernelspec": {
   "display_name": "Python 3 (ipykernel)",
   "language": "python",
   "name": "python3"
  },
  "language_info": {
   "codemirror_mode": {
    "name": "ipython",
    "version": 3
   },
   "file_extension": ".py",
   "mimetype": "text/x-python",
   "name": "python",
   "nbconvert_exporter": "python",
   "pygments_lexer": "ipython3",
   "version": "3.9.13"
  }
 },
 "nbformat": 4,
 "nbformat_minor": 5
}
