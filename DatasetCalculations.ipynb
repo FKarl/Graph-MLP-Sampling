{
 "cells": [
  {
   "cell_type": "markdown",
   "id": "0fbeb9f6-d2df-4e70-9b06-ce426f64056f",
   "metadata": {
    "tags": []
   },
   "source": [
    "# Homophily calculations:\n",
    "## ogbn-arxiv:"
   ]
  },
  {
   "cell_type": "code",
   "execution_count": 1,
   "id": "ffd3d2fe-6a0c-4e3a-ba54-316319d07f8c",
   "metadata": {},
   "outputs": [
    {
     "name": "stdout",
     "output_type": "stream",
     "text": [
      "Downloading http://snap.stanford.edu/ogb/data/nodeproppred/arxiv.zip\n"
     ]
    },
    {
     "name": "stderr",
     "output_type": "stream",
     "text": [
      "Downloaded 0.08 GB: 100%|██████████| 81/81 [00:15<00:00,  5.25it/s]\n"
     ]
    },
    {
     "name": "stdout",
     "output_type": "stream",
     "text": [
      "Extracting dataset/arxiv.zip\n"
     ]
    },
    {
     "name": "stderr",
     "output_type": "stream",
     "text": [
      "Processing...\n"
     ]
    },
    {
     "name": "stdout",
     "output_type": "stream",
     "text": [
      "Loading necessary files...\n",
      "This might take a while.\n",
      "Processing graphs...\n"
     ]
    },
    {
     "name": "stderr",
     "output_type": "stream",
     "text": [
      "100%|██████████| 1/1 [00:00<00:00, 2924.90it/s]\n"
     ]
    },
    {
     "name": "stdout",
     "output_type": "stream",
     "text": [
      "Converting graphs into PyG objects...\n"
     ]
    },
    {
     "name": "stderr",
     "output_type": "stream",
     "text": [
      "100%|██████████| 1/1 [00:00<00:00, 1079.34it/s]"
     ]
    },
    {
     "name": "stdout",
     "output_type": "stream",
     "text": [
      "Saving...\n"
     ]
    },
    {
     "name": "stderr",
     "output_type": "stream",
     "text": [
      "\n",
      "Done!\n"
     ]
    },
    {
     "name": "stdout",
     "output_type": "stream",
     "text": [
      "Data(num_nodes=169343, edge_index=[2, 1166243], x=[169343, 128], node_year=[169343, 1], y=[169343, 1])\n",
      "Undirected: False\n",
      "Homophily: 0.6550830602645874\n"
     ]
    }
   ],
   "source": [
    "from ogb.nodeproppred import PygNodePropPredDataset\n",
    "from torch_geometric.data import DataLoader\n",
    "from torch_geometric.utils import homophily\n",
    "from torch_geometric.data import Dataset\n",
    "\n",
    "# Download and process data at './dataset/ogbn_arxiv/'\n",
    "dataset = PygNodePropPredDataset(name = \"ogbn-arxiv\")\n",
    "\n",
    "# Split:\n",
    "# split_idx = dataset.get_idx_split()\n",
    "# train_idx, valid_idx, test_idx = split_idx[\"train\"], split_idx[\"valid\"], split_idx[\"test\"]\n",
    "\n",
    "data = dataset[0]\n",
    "\n",
    "print(data)\n",
    "print('Undirected:', data.is_undirected())\n",
    "print('Homophily:', homophily(data.edge_index,data.y))"
   ]
  },
  {
   "cell_type": "markdown",
   "id": "680edf7b-d55b-4278-be1c-0c6d8f5f59c2",
   "metadata": {},
   "source": [
    "## ogbn-products:"
   ]
  },
  {
   "cell_type": "code",
   "execution_count": null,
   "id": "a6f7540a-8a94-40b5-8b50-45780fccf0b0",
   "metadata": {},
   "outputs": [],
   "source": [
    "# Download and process data at './dataset/ogbn_producs/'\n",
    "dataset = PygNodePropPredDataset(name = \"ogbn-products\")\n",
    "\n",
    "# Split:\n",
    "# split_idx = dataset.get_idx_split()\n",
    "# train_idx, valid_idx, test_idx = split_idx[\"train\"], split_idx[\"valid\"], split_idx[\"test\"]\n",
    "\n",
    "data = dataset[0]\n",
    "\n",
    "print(data)\n",
    "print('Undirected:', data.is_undirected())\n",
    "print('Homophily:', homophily(data.edge_index,data.y))"
   ]
  },
  {
   "cell_type": "markdown",
   "id": "57648dbf-ccbe-4bb0-a0a2-f36852e891eb",
   "metadata": {},
   "source": [
    "## Citeseer: \n",
    "<span style=\"color: red;\">**!!!(has different edge number than reproted in Graph-MLP, about 2 times as much)!!!**</span>"
   ]
  },
  {
   "cell_type": "code",
   "execution_count": null,
   "id": "db3e0bd3-a521-4660-b3b2-1d02fe701359",
   "metadata": {},
   "outputs": [],
   "source": [
    "from torch_geometric.datasets import Planetoid\n",
    "\n",
    "# Download and process data at './dataset/Planetiod/Citeseer/'\n",
    "dataset = Planetoid(root='dataset/Planetoid', name='Citeseer')\n",
    "\n",
    "data = dataset[0]\n",
    "\n",
    "print(data)\n",
    "print('Undirected:', data.is_undirected())\n",
    "print('Homophily:', homophily(data.edge_index,data.y))"
   ]
  },
  {
   "cell_type": "markdown",
   "id": "89dcc397-1548-4a22-b1f8-0e7ca249fd37",
   "metadata": {},
   "source": [
    "## Pubmed: \n",
    "<span style=\"color: red;\">**!!!(has different edge number than reproted in Graph-MLP, about 2 times as much)!!!**</span>"
   ]
  },
  {
   "cell_type": "code",
   "execution_count": null,
   "id": "01d17199-6462-40e9-9a1d-05bbc375da49",
   "metadata": {},
   "outputs": [],
   "source": [
    "# Download and process data at './dataset/Planetiod/Pubmed/'\n",
    "dataset = Planetoid(root='dataset/Planetoid', name='Pubmed')\n",
    "\n",
    "data = dataset[0]\n",
    "\n",
    "print(data)\n",
    "print('Undirected:', data.is_undirected())\n",
    "print('Homophily:', homophily(data.edge_index,data.y))"
   ]
  },
  {
   "cell_type": "markdown",
   "id": "4139a6b9-5b6a-4a11-9b8a-cd1a1683de07",
   "metadata": {},
   "source": [
    "## Reddit: \n",
    "<span style=\"color: red;\">**!!!(has different edge number, 10 times as much)!!!**</span>"
   ]
  },
  {
   "cell_type": "code",
   "execution_count": null,
   "id": "a55ebb4e-b068-4081-b8f5-72ae23f1c647",
   "metadata": {},
   "outputs": [],
   "source": [
    "from torch_geometric.datasets import Reddit\n",
    "\n",
    "# Download and process data at './dataset/Reddit/'\n",
    "dataset = Reddit(root= 'dataset/Reddit')\n",
    "\n",
    "data = dataset[0]\n",
    "\n",
    "print(data)\n",
    "print('Undirected:', data.is_undirected())\n",
    "print('Homophily:',homophily(data.edge_index,data.y))"
   ]
  },
  {
   "cell_type": "markdown",
   "id": "60ca9164-a305-4256-893b-5ece500ea82b",
   "metadata": {},
   "source": [
    "## Facebook:\n",
    "<span style=\"color: red;\">**!!!(has different edge number than reproted in Graph-MLP, about 2 times as much)!!!**</span>"
   ]
  },
  {
   "cell_type": "code",
   "execution_count": null,
   "id": "7e6e7541-d104-45a8-8324-fd6a4125b18d",
   "metadata": {},
   "outputs": [],
   "source": [
    "from torch_geometric.datasets import FacebookPagePage\n",
    "\n",
    "# Download and process data at './dataset/FacebookPagePage/'\n",
    "dataset = FacebookPagePage(root= 'dataset/FacebookPagePage')\n",
    "\n",
    "data = dataset[0]\n",
    "\n",
    "print(data)\n",
    "print('Undirected:', data.is_undirected())\n",
    "print('Homophily:', homophily(data.edge_index,data.y))"
   ]
  },
  {
   "cell_type": "markdown",
   "id": "b0a9b1b0-93de-4daf-8f2b-25dcf3d2ccb9",
   "metadata": {},
   "source": [
    "<hr />\n",
    "\n",
    "# Using the homophily method from torch, trial:"
   ]
  },
  {
   "cell_type": "code",
   "execution_count": null,
   "id": "8dbca312-4baa-4034-8340-c36ec414548c",
   "metadata": {},
   "outputs": [],
   "source": [
    "from torch_geometric.utils import homophily\n",
    "dataset = PygNodePropPredDataset(name = \"ogbn-arxiv\")\n",
    "\n",
    "data = dataset[0]\n",
    "print(data)\n",
    "print(data.edge_index)\n",
    "print(data.y)\n",
    "print(homophily(data.edge_index,data.y))"
   ]
  },
  {
   "cell_type": "code",
   "execution_count": null,
   "id": "a3707b8b-f3af-4908-a772-e91132aef4f1",
   "metadata": {},
   "outputs": [],
   "source": []
  }
 ],
 "metadata": {
  "kernelspec": {
   "display_name": "Python 3 (ipykernel)",
   "language": "python",
   "name": "python3"
  },
  "language_info": {
   "codemirror_mode": {
    "name": "ipython",
    "version": 3
   },
   "file_extension": ".py",
   "mimetype": "text/x-python",
   "name": "python",
   "nbconvert_exporter": "python",
   "pygments_lexer": "ipython3",
   "version": "3.9.13"
  }
 },
 "nbformat": 4,
 "nbformat_minor": 5
}
