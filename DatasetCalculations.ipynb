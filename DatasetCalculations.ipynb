{
 "cells": [
  {
   "cell_type": "markdown",
   "source": [
    "# Imports"
   ],
   "metadata": {
    "collapsed": false
   }
  },
  {
   "cell_type": "code",
   "execution_count": 1,
   "outputs": [],
   "source": [
    "from ogb.nodeproppred import PygNodePropPredDataset\n",
    "from torch_geometric.utils import homophily\n",
    "from torch_geometric.datasets import Planetoid, Reddit, FacebookPagePage\n",
    "import networkx as nx\n",
    "from torch_geometric.utils import to_networkx"
   ],
   "metadata": {
    "collapsed": false
   }
  },
  {
   "cell_type": "markdown",
   "source": [],
   "metadata": {
    "collapsed": false
   }
  },
  {
   "cell_type": "markdown",
   "source": [
    "# Calculate Cluster coefficient"
   ],
   "metadata": {
    "collapsed": false
   }
  },
  {
   "cell_type": "code",
   "execution_count": 2,
   "outputs": [],
   "source": [
    "def clustering_coef(data):\n",
    "    # Convert data to a NetworkX graph\n",
    "    G = to_networkx(data)\n",
    "\n",
    "    # Compute the average cluster coefficient https://networkx.org/documentation/stable/reference/algorithms/generated/networkx.algorithms.cluster.average_clustering.html\n",
    "    average_cc = nx.average_clustering(G)\n",
    "    return average_cc"
   ],
   "metadata": {
    "collapsed": false
   }
  },
  {
   "cell_type": "markdown",
   "id": "0fbeb9f6-d2df-4e70-9b06-ce426f64056f",
   "metadata": {
    "tags": []
   },
   "source": [
    "# Dataset calculations:\n",
    "## ogbn-arxiv:"
   ]
  },
  {
   "cell_type": "code",
   "execution_count": 3,
   "id": "ffd3d2fe-6a0c-4e3a-ba54-316319d07f8c",
   "metadata": {},
   "outputs": [
    {
     "name": "stdout",
     "output_type": "stream",
     "text": [
      "Data(num_nodes=169343, edge_index=[2, 1166243], x=[169343, 128], node_year=[169343, 1], y=[169343, 1])\n",
      "Undirected: False\n",
      "Edge Homophily: 0.6550830602645874\n",
      "Node Homophily: 0.4279983341693878\n",
      "Edge Insensitive Homophily: 0.44445815682411194\n",
      "Average Cluster Coefficient: 0.11829836531589452\n"
     ]
    }
   ],
   "source": [
    "# Download and process data at './dataset/ogbn_arxiv/'\n",
    "dataset = PygNodePropPredDataset(name=\"ogbn-arxiv\")\n",
    "\n",
    "data = dataset[0]\n",
    "\n",
    "print(data)\n",
    "print('Undirected:', data.is_undirected())\n",
    "print('Edge Homophily:', homophily(data.edge_index, data.y, method='edge'))\n",
    "print('Node Homophily:', homophily(data.edge_index, data.y, method='node'))\n",
    "print('Edge Insensitive Homophily:', homophily(data.edge_index, data.y, method='edge_insensitive'))\n",
    "print('Average Cluster Coefficient:', clustering_coef(data))"
   ]
  },
  {
   "cell_type": "markdown",
   "id": "680edf7b-d55b-4278-be1c-0c6d8f5f59c2",
   "metadata": {},
   "source": [
    "## ogbn-products:"
   ]
  },
  {
   "cell_type": "code",
   "execution_count": 4,
   "id": "a6f7540a-8a94-40b5-8b50-45780fccf0b0",
   "metadata": {},
   "outputs": [
    {
     "name": "stdout",
     "output_type": "stream",
     "text": [
      "Data(num_nodes=2449029, edge_index=[2, 123718280], x=[2449029, 100], y=[2449029, 1])\n",
      "Undirected: True\n",
      "Edge Homophily: 0.807552695274353\n",
      "Node Homophily: 0.8165683746337891\n",
      "Edge Insensitive Homophily: 0.46079307794570923\n"
     ]
    },
    {
     "ename": "MemoryError",
     "evalue": "",
     "output_type": "error",
     "traceback": [
      "\u001B[1;31m---------------------------------------------------------------------------\u001B[0m",
      "\u001B[1;31mMemoryError\u001B[0m                               Traceback (most recent call last)",
      "Cell \u001B[1;32mIn[4], line 15\u001B[0m\n\u001B[0;32m     13\u001B[0m \u001B[38;5;28mprint\u001B[39m(\u001B[38;5;124m'\u001B[39m\u001B[38;5;124mNode Homophily:\u001B[39m\u001B[38;5;124m'\u001B[39m, homophily(data\u001B[38;5;241m.\u001B[39medge_index, data\u001B[38;5;241m.\u001B[39my, method\u001B[38;5;241m=\u001B[39m\u001B[38;5;124m'\u001B[39m\u001B[38;5;124mnode\u001B[39m\u001B[38;5;124m'\u001B[39m))\n\u001B[0;32m     14\u001B[0m \u001B[38;5;28mprint\u001B[39m(\u001B[38;5;124m'\u001B[39m\u001B[38;5;124mEdge Insensitive Homophily:\u001B[39m\u001B[38;5;124m'\u001B[39m, homophily(data\u001B[38;5;241m.\u001B[39medge_index, data\u001B[38;5;241m.\u001B[39my, method\u001B[38;5;241m=\u001B[39m\u001B[38;5;124m'\u001B[39m\u001B[38;5;124medge_insensitive\u001B[39m\u001B[38;5;124m'\u001B[39m))\n\u001B[1;32m---> 15\u001B[0m \u001B[38;5;28mprint\u001B[39m(\u001B[38;5;124m'\u001B[39m\u001B[38;5;124mAverage Cluster Coefficient:\u001B[39m\u001B[38;5;124m'\u001B[39m, \u001B[43mclustering_coef\u001B[49m\u001B[43m(\u001B[49m\u001B[43mdata\u001B[49m\u001B[43m)\u001B[49m)\n",
      "Cell \u001B[1;32mIn[2], line 3\u001B[0m, in \u001B[0;36mclustering_coef\u001B[1;34m(data)\u001B[0m\n\u001B[0;32m      1\u001B[0m \u001B[38;5;28;01mdef\u001B[39;00m \u001B[38;5;21mclustering_coef\u001B[39m(data):\n\u001B[0;32m      2\u001B[0m     \u001B[38;5;66;03m# Convert data to a NetworkX graph\u001B[39;00m\n\u001B[1;32m----> 3\u001B[0m     G \u001B[38;5;241m=\u001B[39m \u001B[43mto_networkx\u001B[49m\u001B[43m(\u001B[49m\u001B[43mdata\u001B[49m\u001B[43m)\u001B[49m\n\u001B[0;32m      5\u001B[0m     \u001B[38;5;66;03m# Compute the average cluster coefficient https://networkx.org/documentation/stable/reference/algorithms/generated/networkx.algorithms.cluster.average_clustering.html\u001B[39;00m\n\u001B[0;32m      6\u001B[0m     average_cc \u001B[38;5;241m=\u001B[39m nx\u001B[38;5;241m.\u001B[39maverage_clustering(G)\n",
      "File \u001B[1;32m~\\PycharmProjects\\Graph-MLP\\venv2\\lib\\site-packages\\torch_geometric\\utils\\convert.py:136\u001B[0m, in \u001B[0;36mto_networkx\u001B[1;34m(data, node_attrs, edge_attrs, graph_attrs, to_undirected, remove_self_loops)\u001B[0m\n\u001B[0;32m    134\u001B[0m \u001B[38;5;28;01mif\u001B[39;00m torch\u001B[38;5;241m.\u001B[39mis_tensor(value):\n\u001B[0;32m    135\u001B[0m     value \u001B[38;5;241m=\u001B[39m value \u001B[38;5;28;01mif\u001B[39;00m value\u001B[38;5;241m.\u001B[39mdim() \u001B[38;5;241m<\u001B[39m\u001B[38;5;241m=\u001B[39m \u001B[38;5;241m1\u001B[39m \u001B[38;5;28;01melse\u001B[39;00m value\u001B[38;5;241m.\u001B[39msqueeze(\u001B[38;5;241m-\u001B[39m\u001B[38;5;241m1\u001B[39m)\n\u001B[1;32m--> 136\u001B[0m     values[key] \u001B[38;5;241m=\u001B[39m \u001B[43mvalue\u001B[49m\u001B[38;5;241;43m.\u001B[39;49m\u001B[43mtolist\u001B[49m\u001B[43m(\u001B[49m\u001B[43m)\u001B[49m\n\u001B[0;32m    137\u001B[0m \u001B[38;5;28;01melse\u001B[39;00m:\n\u001B[0;32m    138\u001B[0m     values[key] \u001B[38;5;241m=\u001B[39m value\n",
      "\u001B[1;31mMemoryError\u001B[0m: "
     ]
    }
   ],
   "source": [
    "# Download and process data at './dataset/ogbn_producs/'\n",
    "dataset = PygNodePropPredDataset(name=\"ogbn-products\")\n",
    "\n",
    "# Split:\n",
    "# split_idx = dataset.get_idx_split()\n",
    "# train_idx, valid_idx, test_idx = split_idx[\"train\"], split_idx[\"valid\"], split_idx[\"test\"]\n",
    "\n",
    "data = dataset[0]\n",
    "\n",
    "print(data)\n",
    "print('Undirected:', data.is_undirected())\n",
    "print('Edge Homophily:', homophily(data.edge_index, data.y, method='edge'))\n",
    "print('Node Homophily:', homophily(data.edge_index, data.y, method='node'))\n",
    "print('Edge Insensitive Homophily:', homophily(data.edge_index, data.y, method='edge_insensitive'))\n",
    "print('Average Cluster Coefficient:', clustering_coef(data))"
   ]
  },
  {
   "cell_type": "markdown",
   "id": "57648dbf-ccbe-4bb0-a0a2-f36852e891eb",
   "metadata": {},
   "source": [
    "## Citeseer:"
   ]
  },
  {
   "cell_type": "code",
   "execution_count": null,
   "id": "db3e0bd3-a521-4660-b3b2-1d02fe701359",
   "metadata": {},
   "outputs": [],
   "source": [
    "# Download and process data at './dataset/Planetiod/Citeseer/'\n",
    "dataset = Planetoid(root='dataset/Planetoid', name='Citeseer')\n",
    "\n",
    "data = dataset[0]\n",
    "#\n",
    "# split = dataset.get(0)\n",
    "# print(split.edge_attr)\n",
    "#\n",
    "# sparse_mx = to_scipy_sparse_matrix(split.edge_index).tocoo().astype(np.float32)\n",
    "#\n",
    "# print(sparse_mx) # equivalent to utils line 86\n",
    "#\n",
    "# features = split.x\n",
    "# labels = split.y\n",
    "# idx_train = mask_to_index(split.train_mask)\n",
    "# idx_val = mask_to_index(split.val_mask)\n",
    "# idx_test = mask_to_index(split.test_mask)\n",
    "#\n",
    "# sparse_mx, features = preprocess_citation(sparse_mx, features, \"AugNormAdj\")\n",
    "#\n",
    "# indices = torch.from_numpy(\n",
    "#         np.vstack((sparse_mx.row, sparse_mx.col)).astype(np.int64))\n",
    "# values = torch.from_numpy(sparse_mx.data)\n",
    "# shape = torch.Size(sparse_mx.shape)\n",
    "#\n",
    "# print(indices, values, shape)\n",
    "#\n",
    "# print('feat', features.shape)\n",
    "#print('label', labels)\n",
    "#print('idx_train', idx_train)\n",
    "#print('idx_val', idx_val)\n",
    "#print('idx_test', idx_test)\n",
    "\n",
    "\n",
    "print(data)\n",
    "print('Undirected:', data.is_undirected())\n",
    "print('Edge Homophily:', homophily(data.edge_index, data.y, method='edge'))\n",
    "print('Node Homophily:', homophily(data.edge_index, data.y, method='node'))\n",
    "print('Edge Insensitive Homophily:', homophily(data.edge_index, data.y, method='edge_insensitive'))\n",
    "print('Average Cluster Coefficient:', clustering_coef(data))"
   ]
  },
  {
   "cell_type": "markdown",
   "id": "89dcc397-1548-4a22-b1f8-0e7ca249fd37",
   "metadata": {},
   "source": [
    "## Pubmed:"
   ]
  },
  {
   "cell_type": "code",
   "execution_count": null,
   "id": "01d17199-6462-40e9-9a1d-05bbc375da49",
   "metadata": {},
   "outputs": [],
   "source": [
    "# Download and process data at './dataset/Planetiod/Pubmed/'\n",
    "dataset = Planetoid(root='dataset/Planetoid', name='PubMed')\n",
    "\n",
    "data = dataset[0]\n",
    "\n",
    "print(data)\n",
    "print('Undirected:', data.is_undirected())\n",
    "print('Edge Homophily:', homophily(data.edge_index, data.y, method='edge'))\n",
    "print('Node Homophily:', homophily(data.edge_index, data.y, method='node'))\n",
    "print('Edge Insensitive Homophily:', homophily(data.edge_index, data.y, method='edge_insensitive'))\n",
    "print('Average Cluster Coefficient:', clustering_coef(data))"
   ]
  },
  {
   "cell_type": "markdown",
   "id": "4139a6b9-5b6a-4a11-9b8a-cd1a1683de07",
   "metadata": {},
   "source": [
    "## Reddit:"
   ]
  },
  {
   "cell_type": "code",
   "execution_count": null,
   "id": "a55ebb4e-b068-4081-b8f5-72ae23f1c647",
   "metadata": {},
   "outputs": [],
   "source": [
    "# Download and process data at './dataset/Reddit/'\n",
    "dataset = Reddit(root='dataset/Reddit')\n",
    "\n",
    "data = dataset[0]\n",
    "\n",
    "split = dataset.get(0)\n",
    "#adj = to_scipy_sparse_matrix(split.edge_index).tocoo().astype(np.float32)\n",
    "print(split)\n",
    "\n",
    "print(data)\n",
    "print('Undirected:', data.is_undirected())\n",
    "print('Edge Homophily:', homophily(data.edge_index, data.y, method='edge'))\n",
    "print('Node Homophily:', homophily(data.edge_index, data.y, method='node'))\n",
    "print('Edge Insensitive Homophily:', homophily(data.edge_index, data.y, method='edge_insensitive'))\n",
    "print('Average Cluster Coefficient:', clustering_coef(data))"
   ]
  },
  {
   "cell_type": "markdown",
   "id": "60ca9164-a305-4256-893b-5ece500ea82b",
   "metadata": {},
   "source": [
    "## Facebook:"
   ]
  },
  {
   "cell_type": "code",
   "execution_count": null,
   "id": "7e6e7541-d104-45a8-8324-fd6a4125b18d",
   "metadata": {},
   "outputs": [],
   "source": [
    "# Download and process data at './dataset/FacebookPagePage/'\n",
    "dataset = FacebookPagePage(root='dataset/FacebookPagePage')\n",
    "\n",
    "data = dataset[0]\n",
    "\n",
    "print('Undirected:', data.is_undirected())\n",
    "print('Edge Homophily:', homophily(data.edge_index, data.y, method='edge'))\n",
    "print('Node Homophily:', homophily(data.edge_index, data.y, method='node'))\n",
    "print('Edge Insensitive Homophily:', homophily(data.edge_index, data.y, method='edge_insensitive'))\n",
    "print('Average Cluster Coefficient:', clustering_coef(data))"
   ]
  },
  {
   "cell_type": "markdown",
   "source": [
    "# Cora"
   ],
   "metadata": {
    "collapsed": false
   }
  },
  {
   "cell_type": "code",
   "execution_count": null,
   "outputs": [],
   "source": [
    "dataset = Planetoid(root='dataset/cora', name='cora')\n",
    "\n",
    "print('Undirected:', data.is_undirected())\n",
    "print('Edge Homophily:', homophily(data.edge_index, data.y, method='edge'))\n",
    "print('Node Homophily:', homophily(data.edge_index, data.y, method='node'))\n",
    "print('Edge Insensitive Homophily:', homophily(data.edge_index, data.y, method='edge_insensitive'))\n",
    "print('Average Cluster Coefficient:', clustering_coef(data))"
   ],
   "metadata": {
    "collapsed": false
   }
  },
  {
   "cell_type": "markdown",
   "id": "b0a9b1b0-93de-4daf-8f2b-25dcf3d2ccb9",
   "metadata": {},
   "source": [
    "<hr />\n",
    "\n",
    "# Using the homophily method from torch, trial:"
   ]
  },
  {
   "cell_type": "code",
   "execution_count": null,
   "id": "8dbca312-4baa-4034-8340-c36ec414548c",
   "metadata": {},
   "outputs": [],
   "source": [
    "dataset = PygNodePropPredDataset(name=\"ogbn-arxiv\")\n",
    "\n",
    "data = dataset[0]\n",
    "print(data)\n",
    "print(data.edge_index)\n",
    "print(data.y)\n",
    "print(homophily(data.edge_index, data.y, method='node'))"
   ]
  }
 ],
 "metadata": {
  "kernelspec": {
   "display_name": "Python 3 (ipykernel)",
   "language": "python",
   "name": "python3"
  },
  "language_info": {
   "codemirror_mode": {
    "name": "ipython",
    "version": 3
   },
   "file_extension": ".py",
   "mimetype": "text/x-python",
   "name": "python",
   "nbconvert_exporter": "python",
   "pygments_lexer": "ipython3",
   "version": "3.9.13"
  }
 },
 "nbformat": 4,
 "nbformat_minor": 5
}
